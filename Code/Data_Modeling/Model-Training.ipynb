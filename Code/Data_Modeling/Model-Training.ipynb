{
 "cells": [
  {
   "cell_type": "markdown",
   "metadata": {},
   "source": [
    "## We will be using the following machine learning classification techniques \n",
    "### 0. Baseline Classifier\n",
    "\n",
    "### 1. Random Forest\n",
    "### 2. SVM\n",
    "### 3. XGBoost\n",
    "### 4. K Nearest Neighbors\n",
    "### 5. Multinomial Naïve Bayes\n",
    "### 6. Multinomial Logistic Regression\n",
    "### 7. Gradient Boosting\n"
   ]
  },
  {
   "cell_type": "markdown",
   "metadata": {},
   "source": [
    "## Defining baseline Classifier for our model\n",
    "\n",
    "### Baseline classifier for my model will be the majority class that is JavaScript which is encoded as 3. The accuracy for the majority class would be 36 percent because it is 36 percent of all the data."
   ]
  }
 ],
 "metadata": {
  "kernelspec": {
   "display_name": "Python 3",
   "language": "python",
   "name": "python3"
  },
  "language_info": {
   "codemirror_mode": {
    "name": "ipython",
    "version": 3
   },
   "file_extension": ".py",
   "mimetype": "text/x-python",
   "name": "python",
   "nbconvert_exporter": "python",
   "pygments_lexer": "ipython3",
   "version": "3.7.3"
  }
 },
 "nbformat": 4,
 "nbformat_minor": 2
}
