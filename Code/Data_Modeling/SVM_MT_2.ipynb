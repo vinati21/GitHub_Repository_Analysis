{
 "cells": [
  {
   "cell_type": "code",
   "execution_count": 4,
   "metadata": {},
   "outputs": [],
   "source": [
    "# data base\n",
    "import pymysql\n",
    "from sqlalchemy import create_engine\n",
    "import MySQLdb\n",
    "\n",
    "#importing pickle\n",
    "import pickle\n",
    "\n",
    "import numpy as np\n",
    "import pandas as pd\n",
    "import math\n",
    "%matplotlib inline\n",
    "from matplotlib import pyplot as plt\n",
    "import seaborn as sns\n",
    "\n",
    "#Importing bokeh\n",
    "\n",
    "from bokeh.plotting import figure\n",
    "from bokeh.io import show, output_notebook\n",
    "from bokeh.models import HoverTool\n",
    "from bokeh.palettes import Spectral6\n",
    "from bokeh.models import ColumnDataSource\n",
    "\n",
    "#Feature selection\n",
    "from sklearn.feature_selection import chi2\n",
    "\n",
    "# for splitting the data set\n",
    "from sklearn.model_selection import train_test_split\n",
    "\n",
    "\n",
    "#tf-idf libraries \n",
    "from sklearn.feature_extraction.text import TfidfVectorizer\n",
    "\n",
    "#importing truncated svd for LSA- Latent Semantic Analysis\n",
    "from sklearn.decomposition import TruncatedSVD\n",
    "\n",
    "#Importing tsne\n",
    "from sklearn.manifold import TSNE\n",
    "\n",
    "#Label Encoding\n",
    "# import labelencoder\n",
    "from sklearn.preprocessing import LabelEncoder\n",
    "\n",
    "np.random.seed(100)"
   ]
  },
  {
   "cell_type": "code",
   "execution_count": 5,
   "metadata": {},
   "outputs": [],
   "source": [
    "# Importing SVM\n",
    "from sklearn import svm\n",
    "\n",
    "\n",
    "#For tuning the hyper-parameters\n",
    "\n",
    "from sklearn.model_selection import GridSearchCV\n",
    "from sklearn.model_selection import RandomizedSearchCV\n",
    "\n",
    "#importing metrics\n",
    "\n",
    "from sklearn.metrics import classification_report\n",
    "from sklearn.metrics import accuracy_score\n",
    "from sklearn.metrics import confusion_matrix"
   ]
  },
  {
   "cell_type": "code",
   "execution_count": 6,
   "metadata": {},
   "outputs": [],
   "source": [
    "# UnPickling all the files so that I can use it for modeling\n",
    "\n",
    "\n",
    "# X_train\n",
    "with open('/home/isiia/Github_Classification/Pickles/X_train.pickle', 'rb') as data:\n",
    "    X_train= pickle.load(data)\n",
    "    \n",
    "# X_test    \n",
    "with open('/home/isiia/Github_Classification/Pickles/X_test.pickle', 'rb') as data:\n",
    "    X_test=pickle.load(data)\n",
    "    \n",
    "# y_train\n",
    "with open('/home/isiia/Github_Classification/Pickles/Y_train.pickle', 'rb') as data:\n",
    "    Y_train=pickle.load(data)\n",
    "    \n",
    "# y_test\n",
    "with open('/home/isiia/Github_Classification/Pickles/Y_test.pickle', 'rb') as data:\n",
    "    Y_test=pickle.load(data)\n",
    "    \n",
    "# df\n",
    "with open('/home/isiia/Github_Classification/Pickles/df_repo.pickle', 'rb') as data:\n",
    "    df_repo=pickle.load(data)\n",
    "    \n",
    "# Tf-idf vectorized train dataset\n",
    "with open('/home/isiia/Github_Classification/Pickles/vz_train.pickle', 'rb') as data:\n",
    "    vz_train=pickle.load(data)\n",
    "\n",
    "# Tf-idf vectorized test dataset\n",
    "with open('/home/isiia/Github_Classification/Pickles/vz_test.pickle', 'rb') as data:\n",
    "    vz_test=pickle.load(data)\n",
    "\n",
    "# Class dictionary\n",
    "with open('/home/isiia/Github_Classification/Pickles/class_dict.pickle', 'rb') as data:\n",
    "    class_dict=pickle.load(data)\n",
    "\n",
    "#tfidf data frame for train\n",
    "with open('/home/isiia/Github_Classification/Pickles/tfidf_df.pickle', 'rb') as data:\n",
    "    tfidf_df=pickle.load(data)\n",
    "    \n",
    "#svd data train\n",
    "with open('/home/isiia/Github_Classification/Pickles/svd_train.pickle', 'rb') as data:\n",
    "    svd_train=pickle.load(data)\n",
    "\n",
    "#svd data test\n",
    "with open('/home/isiia/Github_Classification/Pickles/svd_test.pickle', 'rb') as data:\n",
    "    svd_test=pickle.load(data)\n",
    "    \n",
    "#svd data train dataframe\n",
    "with open('/home/isiia/Github_Classification/Pickles/df_svd_train.pickle', 'rb') as data:\n",
    "    df_svd_train=pickle.load(data)\n",
    "\n",
    "#svd data test dataframe\n",
    "with open('/home/isiia/Github_Classification/Pickles/df_svd_test.pickle', 'rb') as data:\n",
    "    df_svd_test=pickle.load(data)"
   ]
  },
  {
   "cell_type": "code",
   "execution_count": 7,
   "metadata": {},
   "outputs": [],
   "source": [
    "base_model=svm.LinearSVC()"
   ]
  },
  {
   "cell_type": "code",
   "execution_count": 8,
   "metadata": {},
   "outputs": [
    {
     "data": {
      "text/plain": [
       "{'C': 1.0,\n",
       " 'class_weight': None,\n",
       " 'dual': True,\n",
       " 'fit_intercept': True,\n",
       " 'intercept_scaling': 1,\n",
       " 'loss': 'squared_hinge',\n",
       " 'max_iter': 1000,\n",
       " 'multi_class': 'ovr',\n",
       " 'penalty': 'l2',\n",
       " 'random_state': None,\n",
       " 'tol': 0.0001,\n",
       " 'verbose': 0}"
      ]
     },
     "execution_count": 8,
     "metadata": {},
     "output_type": "execute_result"
    }
   ],
   "source": [
    "base_model.get_params()"
   ]
  },
  {
   "cell_type": "code",
   "execution_count": 9,
   "metadata": {},
   "outputs": [
    {
     "name": "stdout",
     "output_type": "stream",
     "text": [
      "84.29910778999329\n"
     ]
    }
   ],
   "source": [
    "import time\n",
    "t0=time.time()\n",
    "base_model.fit(svd_train,Y_train.values)\n",
    "t1=time.time()-t0\n",
    "print(t1)"
   ]
  },
  {
   "cell_type": "code",
   "execution_count": 13,
   "metadata": {},
   "outputs": [
    {
     "name": "stdout",
     "output_type": "stream",
     "text": [
      "The training score is \n",
      "46.92309187004508\n",
      "The test score is\n"
     ]
    },
    {
     "data": {
      "text/plain": [
       "29.918972485621016"
      ]
     },
     "execution_count": 13,
     "metadata": {},
     "output_type": "execute_result"
    }
   ],
   "source": [
    "print(\"The training score is \")\n",
    "print(base_model.score(svd_train,Y_train.values)*100)\n",
    "\n",
    "print(\"The test score is\")\n",
    "base_model.score(svd_test,Y_test.values)*100"
   ]
  },
  {
   "cell_type": "code",
   "execution_count": null,
   "metadata": {},
   "outputs": [],
   "source": []
  }
 ],
 "metadata": {
  "kernelspec": {
   "display_name": "Python 3",
   "language": "python",
   "name": "python3"
  },
  "language_info": {
   "codemirror_mode": {
    "name": "ipython",
    "version": 3
   },
   "file_extension": ".py",
   "mimetype": "text/x-python",
   "name": "python",
   "nbconvert_exporter": "python",
   "pygments_lexer": "ipython3",
   "version": "3.7.3"
  }
 },
 "nbformat": 4,
 "nbformat_minor": 2
}
