{
 "cells": [
  {
   "cell_type": "markdown",
   "metadata": {},
   "source": [
    "## In this we have cleaned textual data, nominal data and selected only repository information\n",
    "## Got correlation between non categorical, categorical and textual features.\n",
    "## Decided on the target variable and got fixed on 11 categories in repository_language."
   ]
  },
  {
   "cell_type": "code",
   "execution_count": 2,
   "metadata": {},
   "outputs": [],
   "source": [
    "import numpy as np\n",
    "import pandas as pd\n",
    "import math\n",
    "%matplotlib inline\n",
    "import matplotlib.pyplot as plt\n",
    "import seaborn as sns\n",
    "from collections import Counter\n",
    "import scipy.stats as ss\n",
    "from dython import nominal\n",
    "import ipywidgets as widgets\n",
    "from ipywidgets import interact, interact_manual\n"
   ]
  },
  {
   "cell_type": "code",
   "execution_count": 3,
   "metadata": {},
   "outputs": [
    {
     "ename": "FileNotFoundError",
     "evalue": "[Errno 2] File b'/Users/vinatigattupalli/Github_Classification/Datasets/Processed_Data/Repo_dataset.csv' does not exist: b'/Users/vinatigattupalli/Github_Classification/Datasets/Processed_Data/Repo_dataset.csv'",
     "output_type": "error",
     "traceback": [
      "\u001b[0;31m---------------------------------------------------------------------------\u001b[0m",
      "\u001b[0;31mFileNotFoundError\u001b[0m                         Traceback (most recent call last)",
      "\u001b[0;32m<ipython-input-3-cff265e433d9>\u001b[0m in \u001b[0;36m<module>\u001b[0;34m\u001b[0m\n\u001b[0;32m----> 1\u001b[0;31m \u001b[0mdf\u001b[0m\u001b[0;34m=\u001b[0m\u001b[0mpd\u001b[0m\u001b[0;34m.\u001b[0m\u001b[0mread_csv\u001b[0m\u001b[0;34m(\u001b[0m\u001b[0;34m\"/Users/vinatigattupalli/Github_Classification/Datasets/Processed_Data/Repo_dataset.csv\"\u001b[0m\u001b[0;34m,\u001b[0m\u001b[0mlow_memory\u001b[0m\u001b[0;34m=\u001b[0m\u001b[0;32mFalse\u001b[0m\u001b[0;34m,\u001b[0m\u001b[0mindex_col\u001b[0m\u001b[0;34m=\u001b[0m\u001b[0;36m0\u001b[0m\u001b[0;34m)\u001b[0m\u001b[0;34m\u001b[0m\u001b[0;34m\u001b[0m\u001b[0m\n\u001b[0m",
      "\u001b[0;32m~/anaconda3/lib/python3.7/site-packages/pandas/io/parsers.py\u001b[0m in \u001b[0;36mparser_f\u001b[0;34m(filepath_or_buffer, sep, delimiter, header, names, index_col, usecols, squeeze, prefix, mangle_dupe_cols, dtype, engine, converters, true_values, false_values, skipinitialspace, skiprows, skipfooter, nrows, na_values, keep_default_na, na_filter, verbose, skip_blank_lines, parse_dates, infer_datetime_format, keep_date_col, date_parser, dayfirst, iterator, chunksize, compression, thousands, decimal, lineterminator, quotechar, quoting, doublequote, escapechar, comment, encoding, dialect, tupleize_cols, error_bad_lines, warn_bad_lines, delim_whitespace, low_memory, memory_map, float_precision)\u001b[0m\n\u001b[1;32m    700\u001b[0m                     skip_blank_lines=skip_blank_lines)\n\u001b[1;32m    701\u001b[0m \u001b[0;34m\u001b[0m\u001b[0m\n\u001b[0;32m--> 702\u001b[0;31m         \u001b[0;32mreturn\u001b[0m \u001b[0m_read\u001b[0m\u001b[0;34m(\u001b[0m\u001b[0mfilepath_or_buffer\u001b[0m\u001b[0;34m,\u001b[0m \u001b[0mkwds\u001b[0m\u001b[0;34m)\u001b[0m\u001b[0;34m\u001b[0m\u001b[0;34m\u001b[0m\u001b[0m\n\u001b[0m\u001b[1;32m    703\u001b[0m \u001b[0;34m\u001b[0m\u001b[0m\n\u001b[1;32m    704\u001b[0m     \u001b[0mparser_f\u001b[0m\u001b[0;34m.\u001b[0m\u001b[0m__name__\u001b[0m \u001b[0;34m=\u001b[0m \u001b[0mname\u001b[0m\u001b[0;34m\u001b[0m\u001b[0;34m\u001b[0m\u001b[0m\n",
      "\u001b[0;32m~/anaconda3/lib/python3.7/site-packages/pandas/io/parsers.py\u001b[0m in \u001b[0;36m_read\u001b[0;34m(filepath_or_buffer, kwds)\u001b[0m\n\u001b[1;32m    427\u001b[0m \u001b[0;34m\u001b[0m\u001b[0m\n\u001b[1;32m    428\u001b[0m     \u001b[0;31m# Create the parser.\u001b[0m\u001b[0;34m\u001b[0m\u001b[0;34m\u001b[0m\u001b[0;34m\u001b[0m\u001b[0m\n\u001b[0;32m--> 429\u001b[0;31m     \u001b[0mparser\u001b[0m \u001b[0;34m=\u001b[0m \u001b[0mTextFileReader\u001b[0m\u001b[0;34m(\u001b[0m\u001b[0mfilepath_or_buffer\u001b[0m\u001b[0;34m,\u001b[0m \u001b[0;34m**\u001b[0m\u001b[0mkwds\u001b[0m\u001b[0;34m)\u001b[0m\u001b[0;34m\u001b[0m\u001b[0;34m\u001b[0m\u001b[0m\n\u001b[0m\u001b[1;32m    430\u001b[0m \u001b[0;34m\u001b[0m\u001b[0m\n\u001b[1;32m    431\u001b[0m     \u001b[0;32mif\u001b[0m \u001b[0mchunksize\u001b[0m \u001b[0;32mor\u001b[0m \u001b[0miterator\u001b[0m\u001b[0;34m:\u001b[0m\u001b[0;34m\u001b[0m\u001b[0;34m\u001b[0m\u001b[0m\n",
      "\u001b[0;32m~/anaconda3/lib/python3.7/site-packages/pandas/io/parsers.py\u001b[0m in \u001b[0;36m__init__\u001b[0;34m(self, f, engine, **kwds)\u001b[0m\n\u001b[1;32m    893\u001b[0m             \u001b[0mself\u001b[0m\u001b[0;34m.\u001b[0m\u001b[0moptions\u001b[0m\u001b[0;34m[\u001b[0m\u001b[0;34m'has_index_names'\u001b[0m\u001b[0;34m]\u001b[0m \u001b[0;34m=\u001b[0m \u001b[0mkwds\u001b[0m\u001b[0;34m[\u001b[0m\u001b[0;34m'has_index_names'\u001b[0m\u001b[0;34m]\u001b[0m\u001b[0;34m\u001b[0m\u001b[0;34m\u001b[0m\u001b[0m\n\u001b[1;32m    894\u001b[0m \u001b[0;34m\u001b[0m\u001b[0m\n\u001b[0;32m--> 895\u001b[0;31m         \u001b[0mself\u001b[0m\u001b[0;34m.\u001b[0m\u001b[0m_make_engine\u001b[0m\u001b[0;34m(\u001b[0m\u001b[0mself\u001b[0m\u001b[0;34m.\u001b[0m\u001b[0mengine\u001b[0m\u001b[0;34m)\u001b[0m\u001b[0;34m\u001b[0m\u001b[0;34m\u001b[0m\u001b[0m\n\u001b[0m\u001b[1;32m    896\u001b[0m \u001b[0;34m\u001b[0m\u001b[0m\n\u001b[1;32m    897\u001b[0m     \u001b[0;32mdef\u001b[0m \u001b[0mclose\u001b[0m\u001b[0;34m(\u001b[0m\u001b[0mself\u001b[0m\u001b[0;34m)\u001b[0m\u001b[0;34m:\u001b[0m\u001b[0;34m\u001b[0m\u001b[0;34m\u001b[0m\u001b[0m\n",
      "\u001b[0;32m~/anaconda3/lib/python3.7/site-packages/pandas/io/parsers.py\u001b[0m in \u001b[0;36m_make_engine\u001b[0;34m(self, engine)\u001b[0m\n\u001b[1;32m   1120\u001b[0m     \u001b[0;32mdef\u001b[0m \u001b[0m_make_engine\u001b[0m\u001b[0;34m(\u001b[0m\u001b[0mself\u001b[0m\u001b[0;34m,\u001b[0m \u001b[0mengine\u001b[0m\u001b[0;34m=\u001b[0m\u001b[0;34m'c'\u001b[0m\u001b[0;34m)\u001b[0m\u001b[0;34m:\u001b[0m\u001b[0;34m\u001b[0m\u001b[0;34m\u001b[0m\u001b[0m\n\u001b[1;32m   1121\u001b[0m         \u001b[0;32mif\u001b[0m \u001b[0mengine\u001b[0m \u001b[0;34m==\u001b[0m \u001b[0;34m'c'\u001b[0m\u001b[0;34m:\u001b[0m\u001b[0;34m\u001b[0m\u001b[0;34m\u001b[0m\u001b[0m\n\u001b[0;32m-> 1122\u001b[0;31m             \u001b[0mself\u001b[0m\u001b[0;34m.\u001b[0m\u001b[0m_engine\u001b[0m \u001b[0;34m=\u001b[0m \u001b[0mCParserWrapper\u001b[0m\u001b[0;34m(\u001b[0m\u001b[0mself\u001b[0m\u001b[0;34m.\u001b[0m\u001b[0mf\u001b[0m\u001b[0;34m,\u001b[0m \u001b[0;34m**\u001b[0m\u001b[0mself\u001b[0m\u001b[0;34m.\u001b[0m\u001b[0moptions\u001b[0m\u001b[0;34m)\u001b[0m\u001b[0;34m\u001b[0m\u001b[0;34m\u001b[0m\u001b[0m\n\u001b[0m\u001b[1;32m   1123\u001b[0m         \u001b[0;32melse\u001b[0m\u001b[0;34m:\u001b[0m\u001b[0;34m\u001b[0m\u001b[0;34m\u001b[0m\u001b[0m\n\u001b[1;32m   1124\u001b[0m             \u001b[0;32mif\u001b[0m \u001b[0mengine\u001b[0m \u001b[0;34m==\u001b[0m \u001b[0;34m'python'\u001b[0m\u001b[0;34m:\u001b[0m\u001b[0;34m\u001b[0m\u001b[0;34m\u001b[0m\u001b[0m\n",
      "\u001b[0;32m~/anaconda3/lib/python3.7/site-packages/pandas/io/parsers.py\u001b[0m in \u001b[0;36m__init__\u001b[0;34m(self, src, **kwds)\u001b[0m\n\u001b[1;32m   1851\u001b[0m         \u001b[0mkwds\u001b[0m\u001b[0;34m[\u001b[0m\u001b[0;34m'usecols'\u001b[0m\u001b[0;34m]\u001b[0m \u001b[0;34m=\u001b[0m \u001b[0mself\u001b[0m\u001b[0;34m.\u001b[0m\u001b[0musecols\u001b[0m\u001b[0;34m\u001b[0m\u001b[0;34m\u001b[0m\u001b[0m\n\u001b[1;32m   1852\u001b[0m \u001b[0;34m\u001b[0m\u001b[0m\n\u001b[0;32m-> 1853\u001b[0;31m         \u001b[0mself\u001b[0m\u001b[0;34m.\u001b[0m\u001b[0m_reader\u001b[0m \u001b[0;34m=\u001b[0m \u001b[0mparsers\u001b[0m\u001b[0;34m.\u001b[0m\u001b[0mTextReader\u001b[0m\u001b[0;34m(\u001b[0m\u001b[0msrc\u001b[0m\u001b[0;34m,\u001b[0m \u001b[0;34m**\u001b[0m\u001b[0mkwds\u001b[0m\u001b[0;34m)\u001b[0m\u001b[0;34m\u001b[0m\u001b[0;34m\u001b[0m\u001b[0m\n\u001b[0m\u001b[1;32m   1854\u001b[0m         \u001b[0mself\u001b[0m\u001b[0;34m.\u001b[0m\u001b[0munnamed_cols\u001b[0m \u001b[0;34m=\u001b[0m \u001b[0mself\u001b[0m\u001b[0;34m.\u001b[0m\u001b[0m_reader\u001b[0m\u001b[0;34m.\u001b[0m\u001b[0munnamed_cols\u001b[0m\u001b[0;34m\u001b[0m\u001b[0;34m\u001b[0m\u001b[0m\n\u001b[1;32m   1855\u001b[0m \u001b[0;34m\u001b[0m\u001b[0m\n",
      "\u001b[0;32mpandas/_libs/parsers.pyx\u001b[0m in \u001b[0;36mpandas._libs.parsers.TextReader.__cinit__\u001b[0;34m()\u001b[0m\n",
      "\u001b[0;32mpandas/_libs/parsers.pyx\u001b[0m in \u001b[0;36mpandas._libs.parsers.TextReader._setup_parser_source\u001b[0;34m()\u001b[0m\n",
      "\u001b[0;31mFileNotFoundError\u001b[0m: [Errno 2] File b'/Users/vinatigattupalli/Github_Classification/Datasets/Processed_Data/Repo_dataset.csv' does not exist: b'/Users/vinatigattupalli/Github_Classification/Datasets/Processed_Data/Repo_dataset.csv'"
     ]
    }
   ],
   "source": [
    "df=pd.read_csv(\"/Users/vinatigattupalli/Github_Classification/Datasets/Processed_Data/Repo_dataset.csv\",low_memory=False,index_col=0)\n"
   ]
  },
  {
   "cell_type": "code",
   "execution_count": 144,
   "metadata": {},
   "outputs": [
    {
     "data": {
      "text/plain": [
       "type                           0\n",
       "created_at                     0\n",
       "actor_attributes_type          0\n",
       "repository_description      2484\n",
       "repository_watchers            0\n",
       "repository_stargazers          0\n",
       "repository_forks               0\n",
       "repository_fork                0\n",
       "repository_size                0\n",
       "repository_owner            1262\n",
       "repository_private             0\n",
       "repository_open_issues         0\n",
       "repository_has_issues          0\n",
       "repository_has_downloads       0\n",
       "repository_has_wiki            0\n",
       "repository_language            0\n",
       "repository_created_at       1262\n",
       "repository_pushed_at        1263\n",
       "repository_master_branch       0\n",
       "actor_attributes_name       3184\n",
       "repo_url                       1\n",
       "repo_name                      1\n",
       "actor_login                    0\n",
       "dtype: int64"
      ]
     },
     "execution_count": 144,
     "metadata": {},
     "output_type": "execute_result"
    }
   ],
   "source": [
    "df.isnull().sum()"
   ]
  },
  {
   "cell_type": "code",
   "execution_count": 120,
   "metadata": {},
   "outputs": [
    {
     "data": {
      "text/plain": [
       "Index(['type', 'created_at', 'actor_attributes_type', 'repository_description',\n",
       "       'repository_watchers', 'repository_stargazers', 'repository_forks',\n",
       "       'repository_fork', 'repository_size', 'repository_owner',\n",
       "       'repository_private', 'repository_open_issues', 'repository_has_issues',\n",
       "       'repository_has_downloads', 'repository_has_wiki',\n",
       "       'repository_language', 'repository_created_at', 'repository_pushed_at',\n",
       "       'repository_master_branch', 'actor_attributes_name', 'repo_url',\n",
       "       'repo_name', 'actor_login'],\n",
       "      dtype='object')"
      ]
     },
     "execution_count": 120,
     "metadata": {},
     "output_type": "execute_result"
    }
   ],
   "source": [
    "df.columns"
   ]
  },
  {
   "cell_type": "code",
   "execution_count": 121,
   "metadata": {},
   "outputs": [
    {
     "data": {
      "text/html": [
       "<div>\n",
       "<style scoped>\n",
       "    .dataframe tbody tr th:only-of-type {\n",
       "        vertical-align: middle;\n",
       "    }\n",
       "\n",
       "    .dataframe tbody tr th {\n",
       "        vertical-align: top;\n",
       "    }\n",
       "\n",
       "    .dataframe thead th {\n",
       "        text-align: right;\n",
       "    }\n",
       "</style>\n",
       "<table border=\"1\" class=\"dataframe\">\n",
       "  <thead>\n",
       "    <tr style=\"text-align: right;\">\n",
       "      <th></th>\n",
       "      <th>repository_fork</th>\n",
       "      <th>repository_private</th>\n",
       "      <th>repository_has_issues</th>\n",
       "      <th>repository_has_downloads</th>\n",
       "      <th>repository_has_wiki</th>\n",
       "    </tr>\n",
       "  </thead>\n",
       "  <tbody>\n",
       "    <tr>\n",
       "      <th>2</th>\n",
       "      <td>True</td>\n",
       "      <td>True</td>\n",
       "      <td>True</td>\n",
       "      <td>True</td>\n",
       "      <td>True</td>\n",
       "    </tr>\n",
       "    <tr>\n",
       "      <th>3</th>\n",
       "      <td>True</td>\n",
       "      <td>True</td>\n",
       "      <td>True</td>\n",
       "      <td>True</td>\n",
       "      <td>True</td>\n",
       "    </tr>\n",
       "    <tr>\n",
       "      <th>4</th>\n",
       "      <td>True</td>\n",
       "      <td>True</td>\n",
       "      <td>True</td>\n",
       "      <td>True</td>\n",
       "      <td>True</td>\n",
       "    </tr>\n",
       "    <tr>\n",
       "      <th>8</th>\n",
       "      <td>True</td>\n",
       "      <td>True</td>\n",
       "      <td>True</td>\n",
       "      <td>True</td>\n",
       "      <td>True</td>\n",
       "    </tr>\n",
       "    <tr>\n",
       "      <th>9</th>\n",
       "      <td>True</td>\n",
       "      <td>True</td>\n",
       "      <td>True</td>\n",
       "      <td>True</td>\n",
       "      <td>True</td>\n",
       "    </tr>\n",
       "  </tbody>\n",
       "</table>\n",
       "</div>"
      ],
      "text/plain": [
       "   repository_fork  repository_private  repository_has_issues  \\\n",
       "2             True                True                   True   \n",
       "3             True                True                   True   \n",
       "4             True                True                   True   \n",
       "8             True                True                   True   \n",
       "9             True                True                   True   \n",
       "\n",
       "   repository_has_downloads  repository_has_wiki  \n",
       "2                      True                 True  \n",
       "3                      True                 True  \n",
       "4                      True                 True  \n",
       "8                      True                 True  \n",
       "9                      True                 True  "
      ]
     },
     "execution_count": 121,
     "metadata": {},
     "output_type": "execute_result"
    }
   ],
   "source": [
    "df.select_dtypes(include='bool').head()"
   ]
  },
  {
   "cell_type": "code",
   "execution_count": 145,
   "metadata": {},
   "outputs": [],
   "source": [
    "df.drop(['repo_url','type','created_at','actor_attributes_type','actor_attributes_name','actor_login','repository_pushed_at'],axis=1,inplace=True)"
   ]
  },
  {
   "cell_type": "code",
   "execution_count": 146,
   "metadata": {},
   "outputs": [
    {
     "data": {
      "text/plain": [
       "Index(['repository_description', 'repository_watchers',\n",
       "       'repository_stargazers', 'repository_forks', 'repository_fork',\n",
       "       'repository_size', 'repository_owner', 'repository_private',\n",
       "       'repository_open_issues', 'repository_has_issues',\n",
       "       'repository_has_downloads', 'repository_has_wiki',\n",
       "       'repository_language', 'repository_created_at',\n",
       "       'repository_master_branch', 'repo_name'],\n",
       "      dtype='object')"
      ]
     },
     "execution_count": 146,
     "metadata": {},
     "output_type": "execute_result"
    }
   ],
   "source": [
    "df.columns"
   ]
  },
  {
   "cell_type": "code",
   "execution_count": 147,
   "metadata": {},
   "outputs": [
    {
     "data": {
      "text/html": [
       "<div>\n",
       "<style scoped>\n",
       "    .dataframe tbody tr th:only-of-type {\n",
       "        vertical-align: middle;\n",
       "    }\n",
       "\n",
       "    .dataframe tbody tr th {\n",
       "        vertical-align: top;\n",
       "    }\n",
       "\n",
       "    .dataframe thead th {\n",
       "        text-align: right;\n",
       "    }\n",
       "</style>\n",
       "<table border=\"1\" class=\"dataframe\">\n",
       "  <thead>\n",
       "    <tr style=\"text-align: right;\">\n",
       "      <th></th>\n",
       "      <th>repository_forks</th>\n",
       "      <th>repository_fork</th>\n",
       "    </tr>\n",
       "  </thead>\n",
       "  <tbody>\n",
       "    <tr>\n",
       "      <th>2</th>\n",
       "      <td>0</td>\n",
       "      <td>True</td>\n",
       "    </tr>\n",
       "    <tr>\n",
       "      <th>3</th>\n",
       "      <td>0</td>\n",
       "      <td>True</td>\n",
       "    </tr>\n",
       "    <tr>\n",
       "      <th>4</th>\n",
       "      <td>0</td>\n",
       "      <td>True</td>\n",
       "    </tr>\n",
       "    <tr>\n",
       "      <th>8</th>\n",
       "      <td>0</td>\n",
       "      <td>True</td>\n",
       "    </tr>\n",
       "    <tr>\n",
       "      <th>9</th>\n",
       "      <td>0</td>\n",
       "      <td>True</td>\n",
       "    </tr>\n",
       "  </tbody>\n",
       "</table>\n",
       "</div>"
      ],
      "text/plain": [
       "   repository_forks  repository_fork\n",
       "2                 0             True\n",
       "3                 0             True\n",
       "4                 0             True\n",
       "8                 0             True\n",
       "9                 0             True"
      ]
     },
     "execution_count": 147,
     "metadata": {},
     "output_type": "execute_result"
    }
   ],
   "source": [
    "df[['repository_forks','repository_fork']].head()"
   ]
  },
  {
   "cell_type": "markdown",
   "metadata": {},
   "source": [
    "## Correlation between our features"
   ]
  },
  {
   "cell_type": "code",
   "execution_count": 125,
   "metadata": {},
   "outputs": [],
   "source": [
    "def conditional_entropy(x,y):\n",
    "    # entropy of x given y\n",
    "    y_counter = Counter(y)\n",
    "    xy_counter = Counter(list(zip(x,y)))\n",
    "    total_occurrences = sum(y_counter.values())\n",
    "    entropy = 0\n",
    "    for xy in xy_counter.keys():\n",
    "        p_xy = xy_counter[xy] / total_occurrences\n",
    "        p_y = y_counter[xy[1]] / total_occurrences\n",
    "        entropy += p_xy * math.log(p_y/p_xy)\n",
    "    return entropy"
   ]
  },
  {
   "cell_type": "code",
   "execution_count": 126,
   "metadata": {},
   "outputs": [],
   "source": [
    "def theil_u(x,y):\n",
    "    s_xy = conditional_entropy(x,y)\n",
    "    x_counter = Counter(x)\n",
    "    total_occurrences = sum(x_counter.values())\n",
    "    p_x = list(map(lambda n: n/total_occurrences, x_counter.values()))\n",
    "    s_x = ss.entropy(p_x)\n",
    "    if s_x == 0:\n",
    "        return 1\n",
    "    else:\n",
    "        return (s_x - s_xy) / s_x"
   ]
  },
  {
   "cell_type": "code",
   "execution_count": 127,
   "metadata": {},
   "outputs": [],
   "source": [
    "#Correlation between two features\n",
    "corr_repo=theil_u(df['repository_owner'],df['repo_name'])\n"
   ]
  },
  {
   "cell_type": "code",
   "execution_count": 128,
   "metadata": {},
   "outputs": [
    {
     "name": "stdout",
     "output_type": "stream",
     "text": [
      "The correlation between repository_owner and repo_name is 1.0\n"
     ]
    }
   ],
   "source": [
    "print(\"The correlation between repository_owner and repo_name is {}\".format(corr_repo))\n",
    "# we can drop one of them.\n"
   ]
  },
  {
   "cell_type": "code",
   "execution_count": 148,
   "metadata": {},
   "outputs": [],
   "source": [
    "df.drop(['repository_owner'],axis=1,inplace=True)"
   ]
  },
  {
   "cell_type": "code",
   "execution_count": 153,
   "metadata": {},
   "outputs": [
    {
     "data": {
      "text/plain": [
       "(7054, 15)"
      ]
     },
     "execution_count": 153,
     "metadata": {},
     "output_type": "execute_result"
    }
   ],
   "source": [
    "df.shape"
   ]
  },
  {
   "cell_type": "code",
   "execution_count": 157,
   "metadata": {},
   "outputs": [
    {
     "data": {
      "text/plain": [
       "repository_description      object\n",
       "repository_watchers          int64\n",
       "repository_stargazers        int64\n",
       "repository_forks             int64\n",
       "repository_fork               bool\n",
       "repository_size              int64\n",
       "repository_private            bool\n",
       "repository_open_issues       int64\n",
       "repository_has_issues         bool\n",
       "repository_has_downloads      bool\n",
       "repository_has_wiki           bool\n",
       "repository_language         object\n",
       "repository_created_at       object\n",
       "repository_master_branch    object\n",
       "repo_name                   object\n",
       "dtype: object"
      ]
     },
     "execution_count": 157,
     "metadata": {},
     "output_type": "execute_result"
    }
   ],
   "source": [
    "df.dtypes"
   ]
  },
  {
   "cell_type": "code",
   "execution_count": 151,
   "metadata": {},
   "outputs": [
    {
     "data": {
      "text/plain": [
       "repository_description      2484\n",
       "repository_watchers            0\n",
       "repository_stargazers          0\n",
       "repository_forks               0\n",
       "repository_fork                0\n",
       "repository_size                0\n",
       "repository_private             0\n",
       "repository_open_issues         0\n",
       "repository_has_issues          0\n",
       "repository_has_downloads       0\n",
       "repository_has_wiki            0\n",
       "repository_language            0\n",
       "repository_created_at       1262\n",
       "repository_master_branch       0\n",
       "repo_name                      1\n",
       "dtype: int64"
      ]
     },
     "execution_count": 151,
     "metadata": {},
     "output_type": "execute_result"
    }
   ],
   "source": [
    "df.isnull().sum()"
   ]
  },
  {
   "cell_type": "code",
   "execution_count": 154,
   "metadata": {},
   "outputs": [],
   "source": [
    "def percentage_missing_values_dtype(df,Dtype):\n",
    "    df_object=df.select_dtypes(include=Dtype)\n",
    "    number_of_null_cells=df_object.isnull().sum()\n",
    "    Percentage_object_columnwise=(number_of_null_cells/df.shape[0])*100\n",
    "    return Percentage_object_columnwise"
   ]
  },
  {
   "cell_type": "code",
   "execution_count": 168,
   "metadata": {},
   "outputs": [
    {
     "data": {
      "text/plain": [
       "repository_watchers       0.0\n",
       "repository_stargazers     0.0\n",
       "repository_forks          0.0\n",
       "repository_size           0.0\n",
       "repository_open_issues    0.0\n",
       "dtype: float64"
      ]
     },
     "execution_count": 168,
     "metadata": {},
     "output_type": "execute_result"
    }
   ],
   "source": [
    "percentage_missing_values=percentage_missing_values_dtype(df,'int')\n",
    "percentage_missing_values"
   ]
  },
  {
   "cell_type": "code",
   "execution_count": 160,
   "metadata": {},
   "outputs": [],
   "source": [
    "df.dropna(axis=0,inplace=True)"
   ]
  },
  {
   "cell_type": "code",
   "execution_count": 161,
   "metadata": {},
   "outputs": [
    {
     "data": {
      "text/plain": [
       "(4570, 15)"
      ]
     },
     "execution_count": 161,
     "metadata": {},
     "output_type": "execute_result"
    }
   ],
   "source": [
    "df.shape"
   ]
  },
  {
   "cell_type": "code",
   "execution_count": 162,
   "metadata": {
    "scrolled": false
   },
   "outputs": [
    {
     "name": "stderr",
     "output_type": "stream",
     "text": [
      "/anaconda2/envs/py36/lib/python3.6/site-packages/scipy/stats/stats.py:3399: PearsonRConstantInputWarning: An input array is constant; the correlation coefficent is not defined.\n",
      "  warnings.warn(PearsonRConstantInputWarning())\n"
     ]
    },
    {
     "data": {
      "image/png": "[encoded data removed]",
      "text/plain": [
       "<Figure size 1080x720 with 2 Axes>"
      ]
     },
     "metadata": {
      "needs_background": "light"
     },
     "output_type": "display_data"
    },
    {
     "data": {
      "text/html": [
       "<div>\n",
       "<style scoped>\n",
       "    .dataframe tbody tr th:only-of-type {\n",
       "        vertical-align: middle;\n",
       "    }\n",
       "\n",
       "    .dataframe tbody tr th {\n",
       "        vertical-align: top;\n",
       "    }\n",
       "\n",
       "    .dataframe thead th {\n",
       "        text-align: right;\n",
       "    }\n",
       "</style>\n",
       "<table border=\"1\" class=\"dataframe\">\n",
       "  <thead>\n",
       "    <tr style=\"text-align: right;\">\n",
       "      <th></th>\n",
       "      <th>repository_description</th>\n",
       "      <th>repository_watchers</th>\n",
       "      <th>repository_stargazers</th>\n",
       "      <th>repository_forks</th>\n",
       "      <th>repository_fork</th>\n",
       "      <th>repository_size</th>\n",
       "      <th>repository_private</th>\n",
       "      <th>repository_open_issues</th>\n",
       "      <th>repository_has_issues</th>\n",
       "      <th>repository_has_downloads</th>\n",
       "      <th>repository_has_wiki</th>\n",
       "      <th>repository_language</th>\n",
       "      <th>repository_created_at</th>\n",
       "      <th>repository_master_branch</th>\n",
       "      <th>repo_name</th>\n",
       "    </tr>\n",
       "  </thead>\n",
       "  <tbody>\n",
       "    <tr>\n",
       "      <th>repository_description</th>\n",
       "      <td>1.000000</td>\n",
       "      <td>0.999706</td>\n",
       "      <td>0.999706</td>\n",
       "      <td>0.999931</td>\n",
       "      <td>0.995272</td>\n",
       "      <td>0.999495</td>\n",
       "      <td>0.0</td>\n",
       "      <td>0.999993</td>\n",
       "      <td>0.995353</td>\n",
       "      <td>1.000000</td>\n",
       "      <td>1.000000</td>\n",
       "      <td>0.125655</td>\n",
       "      <td>0.309347</td>\n",
       "      <td>0.122362</td>\n",
       "      <td>inf</td>\n",
       "    </tr>\n",
       "    <tr>\n",
       "      <th>repository_watchers</th>\n",
       "      <td>0.999706</td>\n",
       "      <td>1.000000</td>\n",
       "      <td>1.000000</td>\n",
       "      <td>0.769874</td>\n",
       "      <td>-0.068289</td>\n",
       "      <td>0.083896</td>\n",
       "      <td>NaN</td>\n",
       "      <td>0.290170</td>\n",
       "      <td>0.049698</td>\n",
       "      <td>-0.097154</td>\n",
       "      <td>-0.088481</td>\n",
       "      <td>0.129526</td>\n",
       "      <td>0.999423</td>\n",
       "      <td>0.075085</td>\n",
       "      <td>1.0</td>\n",
       "    </tr>\n",
       "    <tr>\n",
       "      <th>repository_stargazers</th>\n",
       "      <td>0.999706</td>\n",
       "      <td>1.000000</td>\n",
       "      <td>1.000000</td>\n",
       "      <td>0.769874</td>\n",
       "      <td>-0.068289</td>\n",
       "      <td>0.083896</td>\n",
       "      <td>NaN</td>\n",
       "      <td>0.290170</td>\n",
       "      <td>0.049698</td>\n",
       "      <td>-0.097154</td>\n",
       "      <td>-0.088481</td>\n",
       "      <td>0.129526</td>\n",
       "      <td>0.999423</td>\n",
       "      <td>0.075085</td>\n",
       "      <td>1.0</td>\n",
       "    </tr>\n",
       "    <tr>\n",
       "      <th>repository_forks</th>\n",
       "      <td>0.999931</td>\n",
       "      <td>0.769874</td>\n",
       "      <td>0.769874</td>\n",
       "      <td>1.000000</td>\n",
       "      <td>-0.045797</td>\n",
       "      <td>0.098804</td>\n",
       "      <td>NaN</td>\n",
       "      <td>0.313873</td>\n",
       "      <td>0.021252</td>\n",
       "      <td>-0.080350</td>\n",
       "      <td>-0.096481</td>\n",
       "      <td>0.099729</td>\n",
       "      <td>0.999749</td>\n",
       "      <td>0.055516</td>\n",
       "      <td>1.0</td>\n",
       "    </tr>\n",
       "    <tr>\n",
       "      <th>repository_fork</th>\n",
       "      <td>0.995272</td>\n",
       "      <td>-0.068289</td>\n",
       "      <td>-0.068289</td>\n",
       "      <td>-0.045797</td>\n",
       "      <td>1.000000</td>\n",
       "      <td>0.055572</td>\n",
       "      <td>NaN</td>\n",
       "      <td>-0.053001</td>\n",
       "      <td>-0.744774</td>\n",
       "      <td>-0.038295</td>\n",
       "      <td>-0.127798</td>\n",
       "      <td>0.148292</td>\n",
       "      <td>0.999410</td>\n",
       "      <td>0.262676</td>\n",
       "      <td>1.0</td>\n",
       "    </tr>\n",
       "    <tr>\n",
       "      <th>repository_size</th>\n",
       "      <td>0.999495</td>\n",
       "      <td>0.083896</td>\n",
       "      <td>0.083896</td>\n",
       "      <td>0.098804</td>\n",
       "      <td>0.055572</td>\n",
       "      <td>1.000000</td>\n",
       "      <td>NaN</td>\n",
       "      <td>0.087553</td>\n",
       "      <td>-0.116257</td>\n",
       "      <td>-0.073051</td>\n",
       "      <td>-0.094095</td>\n",
       "      <td>0.233502</td>\n",
       "      <td>0.999774</td>\n",
       "      <td>0.386902</td>\n",
       "      <td>1.0</td>\n",
       "    </tr>\n",
       "    <tr>\n",
       "      <th>repository_private</th>\n",
       "      <td>0.000000</td>\n",
       "      <td>NaN</td>\n",
       "      <td>NaN</td>\n",
       "      <td>NaN</td>\n",
       "      <td>NaN</td>\n",
       "      <td>NaN</td>\n",
       "      <td>1.0</td>\n",
       "      <td>NaN</td>\n",
       "      <td>NaN</td>\n",
       "      <td>NaN</td>\n",
       "      <td>NaN</td>\n",
       "      <td>0.000000</td>\n",
       "      <td>0.000000</td>\n",
       "      <td>0.000000</td>\n",
       "      <td>0.0</td>\n",
       "    </tr>\n",
       "    <tr>\n",
       "      <th>repository_open_issues</th>\n",
       "      <td>0.999993</td>\n",
       "      <td>0.290170</td>\n",
       "      <td>0.290170</td>\n",
       "      <td>0.313873</td>\n",
       "      <td>-0.053001</td>\n",
       "      <td>0.087553</td>\n",
       "      <td>NaN</td>\n",
       "      <td>1.000000</td>\n",
       "      <td>0.055420</td>\n",
       "      <td>-0.052637</td>\n",
       "      <td>-0.033051</td>\n",
       "      <td>0.076631</td>\n",
       "      <td>0.999323</td>\n",
       "      <td>0.149077</td>\n",
       "      <td>1.0</td>\n",
       "    </tr>\n",
       "    <tr>\n",
       "      <th>repository_has_issues</th>\n",
       "      <td>0.995353</td>\n",
       "      <td>0.049698</td>\n",
       "      <td>0.049698</td>\n",
       "      <td>0.021252</td>\n",
       "      <td>-0.744774</td>\n",
       "      <td>-0.116257</td>\n",
       "      <td>NaN</td>\n",
       "      <td>0.055420</td>\n",
       "      <td>1.000000</td>\n",
       "      <td>0.187531</td>\n",
       "      <td>0.300663</td>\n",
       "      <td>0.181167</td>\n",
       "      <td>0.998453</td>\n",
       "      <td>0.259903</td>\n",
       "      <td>1.0</td>\n",
       "    </tr>\n",
       "    <tr>\n",
       "      <th>repository_has_downloads</th>\n",
       "      <td>1.000000</td>\n",
       "      <td>-0.097154</td>\n",
       "      <td>-0.097154</td>\n",
       "      <td>-0.080350</td>\n",
       "      <td>-0.038295</td>\n",
       "      <td>-0.073051</td>\n",
       "      <td>NaN</td>\n",
       "      <td>-0.052637</td>\n",
       "      <td>0.187531</td>\n",
       "      <td>1.000000</td>\n",
       "      <td>0.245469</td>\n",
       "      <td>0.202077</td>\n",
       "      <td>1.000000</td>\n",
       "      <td>0.287971</td>\n",
       "      <td>1.0</td>\n",
       "    </tr>\n",
       "    <tr>\n",
       "      <th>repository_has_wiki</th>\n",
       "      <td>1.000000</td>\n",
       "      <td>-0.088481</td>\n",
       "      <td>-0.088481</td>\n",
       "      <td>-0.096481</td>\n",
       "      <td>-0.127798</td>\n",
       "      <td>-0.094095</td>\n",
       "      <td>NaN</td>\n",
       "      <td>-0.033051</td>\n",
       "      <td>0.300663</td>\n",
       "      <td>0.245469</td>\n",
       "      <td>1.000000</td>\n",
       "      <td>0.177358</td>\n",
       "      <td>0.998468</td>\n",
       "      <td>0.191718</td>\n",
       "      <td>1.0</td>\n",
       "    </tr>\n",
       "    <tr>\n",
       "      <th>repository_language</th>\n",
       "      <td>0.125655</td>\n",
       "      <td>0.129526</td>\n",
       "      <td>0.129526</td>\n",
       "      <td>0.099729</td>\n",
       "      <td>0.148292</td>\n",
       "      <td>0.233502</td>\n",
       "      <td>0.0</td>\n",
       "      <td>0.076631</td>\n",
       "      <td>0.181167</td>\n",
       "      <td>0.202077</td>\n",
       "      <td>0.177358</td>\n",
       "      <td>1.000000</td>\n",
       "      <td>0.107944</td>\n",
       "      <td>0.133687</td>\n",
       "      <td>inf</td>\n",
       "    </tr>\n",
       "    <tr>\n",
       "      <th>repository_created_at</th>\n",
       "      <td>0.309347</td>\n",
       "      <td>0.999423</td>\n",
       "      <td>0.999423</td>\n",
       "      <td>0.999749</td>\n",
       "      <td>0.999410</td>\n",
       "      <td>0.999774</td>\n",
       "      <td>0.0</td>\n",
       "      <td>0.999323</td>\n",
       "      <td>0.998453</td>\n",
       "      <td>1.000000</td>\n",
       "      <td>0.998468</td>\n",
       "      <td>0.107944</td>\n",
       "      <td>1.000000</td>\n",
       "      <td>0.000000</td>\n",
       "      <td>inf</td>\n",
       "    </tr>\n",
       "    <tr>\n",
       "      <th>repository_master_branch</th>\n",
       "      <td>0.122362</td>\n",
       "      <td>0.075085</td>\n",
       "      <td>0.075085</td>\n",
       "      <td>0.055516</td>\n",
       "      <td>0.262676</td>\n",
       "      <td>0.386902</td>\n",
       "      <td>0.0</td>\n",
       "      <td>0.149077</td>\n",
       "      <td>0.259903</td>\n",
       "      <td>0.287971</td>\n",
       "      <td>0.191718</td>\n",
       "      <td>0.133687</td>\n",
       "      <td>0.000000</td>\n",
       "      <td>1.000000</td>\n",
       "      <td>inf</td>\n",
       "    </tr>\n",
       "    <tr>\n",
       "      <th>repo_name</th>\n",
       "      <td>inf</td>\n",
       "      <td>1.000000</td>\n",
       "      <td>1.000000</td>\n",
       "      <td>1.000000</td>\n",
       "      <td>1.000000</td>\n",
       "      <td>1.000000</td>\n",
       "      <td>0.0</td>\n",
       "      <td>1.000000</td>\n",
       "      <td>1.000000</td>\n",
       "      <td>1.000000</td>\n",
       "      <td>1.000000</td>\n",
       "      <td>inf</td>\n",
       "      <td>inf</td>\n",
       "      <td>inf</td>\n",
       "      <td>1.0</td>\n",
       "    </tr>\n",
       "  </tbody>\n",
       "</table>\n",
       "</div>"
      ],
      "text/plain": [
       "                          repository_description  repository_watchers  \\\n",
       "repository_description                  1.000000             0.999706   \n",
       "repository_watchers                     0.999706             1.000000   \n",
       "repository_stargazers                   0.999706             1.000000   \n",
       "repository_forks                        0.999931             0.769874   \n",
       "repository_fork                         0.995272            -0.068289   \n",
       "repository_size                         0.999495             0.083896   \n",
       "repository_private                      0.000000                  NaN   \n",
       "repository_open_issues                  0.999993             0.290170   \n",
       "repository_has_issues                   0.995353             0.049698   \n",
       "repository_has_downloads                1.000000            -0.097154   \n",
       "repository_has_wiki                     1.000000            -0.088481   \n",
       "repository_language                     0.125655             0.129526   \n",
       "repository_created_at                   0.309347             0.999423   \n",
       "repository_master_branch                0.122362             0.075085   \n",
       "repo_name                                    inf             1.000000   \n",
       "\n",
       "                          repository_stargazers  repository_forks  \\\n",
       "repository_description                 0.999706          0.999931   \n",
       "repository_watchers                    1.000000          0.769874   \n",
       "repository_stargazers                  1.000000          0.769874   \n",
       "repository_forks                       0.769874          1.000000   \n",
       "repository_fork                       -0.068289         -0.045797   \n",
       "repository_size                        0.083896          0.098804   \n",
       "repository_private                          NaN               NaN   \n",
       "repository_open_issues                 0.290170          0.313873   \n",
       "repository_has_issues                  0.049698          0.021252   \n",
       "repository_has_downloads              -0.097154         -0.080350   \n",
       "repository_has_wiki                   -0.088481         -0.096481   \n",
       "repository_language                    0.129526          0.099729   \n",
       "repository_created_at                  0.999423          0.999749   \n",
       "repository_master_branch               0.075085          0.055516   \n",
       "repo_name                              1.000000          1.000000   \n",
       "\n",
       "                          repository_fork  repository_size  \\\n",
       "repository_description           0.995272         0.999495   \n",
       "repository_watchers             -0.068289         0.083896   \n",
       "repository_stargazers           -0.068289         0.083896   \n",
       "repository_forks                -0.045797         0.098804   \n",
       "repository_fork                  1.000000         0.055572   \n",
       "repository_size                  0.055572         1.000000   \n",
       "repository_private                    NaN              NaN   \n",
       "repository_open_issues          -0.053001         0.087553   \n",
       "repository_has_issues           -0.744774        -0.116257   \n",
       "repository_has_downloads        -0.038295        -0.073051   \n",
       "repository_has_wiki             -0.127798        -0.094095   \n",
       "repository_language              0.148292         0.233502   \n",
       "repository_created_at            0.999410         0.999774   \n",
       "repository_master_branch         0.262676         0.386902   \n",
       "repo_name                        1.000000         1.000000   \n",
       "\n",
       "                          repository_private  repository_open_issues  \\\n",
       "repository_description                   0.0                0.999993   \n",
       "repository_watchers                      NaN                0.290170   \n",
       "repository_stargazers                    NaN                0.290170   \n",
       "repository_forks                         NaN                0.313873   \n",
       "repository_fork                          NaN               -0.053001   \n",
       "repository_size                          NaN                0.087553   \n",
       "repository_private                       1.0                     NaN   \n",
       "repository_open_issues                   NaN                1.000000   \n",
       "repository_has_issues                    NaN                0.055420   \n",
       "repository_has_downloads                 NaN               -0.052637   \n",
       "repository_has_wiki                      NaN               -0.033051   \n",
       "repository_language                      0.0                0.076631   \n",
       "repository_created_at                    0.0                0.999323   \n",
       "repository_master_branch                 0.0                0.149077   \n",
       "repo_name                                0.0                1.000000   \n",
       "\n",
       "                          repository_has_issues  repository_has_downloads  \\\n",
       "repository_description                 0.995353                  1.000000   \n",
       "repository_watchers                    0.049698                 -0.097154   \n",
       "repository_stargazers                  0.049698                 -0.097154   \n",
       "repository_forks                       0.021252                 -0.080350   \n",
       "repository_fork                       -0.744774                 -0.038295   \n",
       "repository_size                       -0.116257                 -0.073051   \n",
       "repository_private                          NaN                       NaN   \n",
       "repository_open_issues                 0.055420                 -0.052637   \n",
       "repository_has_issues                  1.000000                  0.187531   \n",
       "repository_has_downloads               0.187531                  1.000000   \n",
       "repository_has_wiki                    0.300663                  0.245469   \n",
       "repository_language                    0.181167                  0.202077   \n",
       "repository_created_at                  0.998453                  1.000000   \n",
       "repository_master_branch               0.259903                  0.287971   \n",
       "repo_name                              1.000000                  1.000000   \n",
       "\n",
       "                          repository_has_wiki  repository_language  \\\n",
       "repository_description               1.000000             0.125655   \n",
       "repository_watchers                 -0.088481             0.129526   \n",
       "repository_stargazers               -0.088481             0.129526   \n",
       "repository_forks                    -0.096481             0.099729   \n",
       "repository_fork                     -0.127798             0.148292   \n",
       "repository_size                     -0.094095             0.233502   \n",
       "repository_private                        NaN             0.000000   \n",
       "repository_open_issues              -0.033051             0.076631   \n",
       "repository_has_issues                0.300663             0.181167   \n",
       "repository_has_downloads             0.245469             0.202077   \n",
       "repository_has_wiki                  1.000000             0.177358   \n",
       "repository_language                  0.177358             1.000000   \n",
       "repository_created_at                0.998468             0.107944   \n",
       "repository_master_branch             0.191718             0.133687   \n",
       "repo_name                            1.000000                  inf   \n",
       "\n",
       "                          repository_created_at  repository_master_branch  \\\n",
       "repository_description                 0.309347                  0.122362   \n",
       "repository_watchers                    0.999423                  0.075085   \n",
       "repository_stargazers                  0.999423                  0.075085   \n",
       "repository_forks                       0.999749                  0.055516   \n",
       "repository_fork                        0.999410                  0.262676   \n",
       "repository_size                        0.999774                  0.386902   \n",
       "repository_private                     0.000000                  0.000000   \n",
       "repository_open_issues                 0.999323                  0.149077   \n",
       "repository_has_issues                  0.998453                  0.259903   \n",
       "repository_has_downloads               1.000000                  0.287971   \n",
       "repository_has_wiki                    0.998468                  0.191718   \n",
       "repository_language                    0.107944                  0.133687   \n",
       "repository_created_at                  1.000000                  0.000000   \n",
       "repository_master_branch               0.000000                  1.000000   \n",
       "repo_name                                   inf                       inf   \n",
       "\n",
       "                          repo_name  \n",
       "repository_description          inf  \n",
       "repository_watchers             1.0  \n",
       "repository_stargazers           1.0  \n",
       "repository_forks                1.0  \n",
       "repository_fork                 1.0  \n",
       "repository_size                 1.0  \n",
       "repository_private              0.0  \n",
       "repository_open_issues          1.0  \n",
       "repository_has_issues           1.0  \n",
       "repository_has_downloads        1.0  \n",
       "repository_has_wiki             1.0  \n",
       "repository_language             inf  \n",
       "repository_created_at           inf  \n",
       "repository_master_branch        inf  \n",
       "repo_name                       1.0  "
      ]
     },
     "execution_count": 162,
     "metadata": {},
     "output_type": "execute_result"
    }
   ],
   "source": [
    "#correlation including all\n",
    "nominal.associations(df, nominal_columns='auto', mark_columns=False, theil_u=False, plot=True, return_results=True, clustering=False, nan_strategy=REPLACE, nan_replace_value=DEFAULT_REPLACE_VALUE,figsize=(15,10))\n",
    "            "
   ]
  },
  {
   "cell_type": "code",
   "execution_count": 176,
   "metadata": {},
   "outputs": [
    {
     "data": {
      "text/plain": [
       "<matplotlib.axes._subplots.AxesSubplot at 0x1231ce4a8>"
      ]
     },
     "execution_count": 176,
     "metadata": {},
     "output_type": "execute_result"
    },
    {
     "data": {
      "image/png": "[encoded data removed]",
      "text/plain": [
       "<Figure size 720x720 with 2 Axes>"
      ]
     },
     "metadata": {
      "needs_background": "light"
     },
     "output_type": "display_data"
    }
   ],
   "source": [
    "#correlation for non categorical\n",
    "corr=df.corr()\n",
    "plt.figure(figsize=(10,10))\n",
    "sns.heatmap(data=corr,vmin=-1,vmax=1,center=0,square=True,annot=True)\n"
   ]
  },
  {
   "cell_type": "code",
   "execution_count": 177,
   "metadata": {},
   "outputs": [
    {
     "data": {
      "text/html": [
       "<div>\n",
       "<style scoped>\n",
       "    .dataframe tbody tr th:only-of-type {\n",
       "        vertical-align: middle;\n",
       "    }\n",
       "\n",
       "    .dataframe tbody tr th {\n",
       "        vertical-align: top;\n",
       "    }\n",
       "\n",
       "    .dataframe thead th {\n",
       "        text-align: right;\n",
       "    }\n",
       "</style>\n",
       "<table border=\"1\" class=\"dataframe\">\n",
       "  <thead>\n",
       "    <tr style=\"text-align: right;\">\n",
       "      <th></th>\n",
       "      <th>repository_description</th>\n",
       "      <th>repository_watchers</th>\n",
       "      <th>repository_stargazers</th>\n",
       "      <th>repository_forks</th>\n",
       "      <th>repository_fork</th>\n",
       "      <th>repository_size</th>\n",
       "      <th>repository_private</th>\n",
       "      <th>repository_open_issues</th>\n",
       "      <th>repository_has_issues</th>\n",
       "      <th>repository_has_downloads</th>\n",
       "      <th>repository_has_wiki</th>\n",
       "      <th>repository_language</th>\n",
       "      <th>repository_created_at</th>\n",
       "      <th>repository_master_branch</th>\n",
       "      <th>repo_name</th>\n",
       "    </tr>\n",
       "  </thead>\n",
       "  <tbody>\n",
       "    <tr>\n",
       "      <th>2414</th>\n",
       "      <td>ZF2 Based CMS that provides a highly-WYSIWYG i...</td>\n",
       "      <td>0</td>\n",
       "      <td>0</td>\n",
       "      <td>0</td>\n",
       "      <td>True</td>\n",
       "      <td>23182</td>\n",
       "      <td>False</td>\n",
       "      <td>0</td>\n",
       "      <td>False</td>\n",
       "      <td>True</td>\n",
       "      <td>True</td>\n",
       "      <td>PHP</td>\n",
       "      <td>2014-02-19T11:29:49-08:00</td>\n",
       "      <td>master</td>\n",
       "      <td>Rcm</td>\n",
       "    </tr>\n",
       "    <tr>\n",
       "      <th>2412</th>\n",
       "      <td>Vagrant base boxes for my projects as vbkick d...</td>\n",
       "      <td>0</td>\n",
       "      <td>0</td>\n",
       "      <td>0</td>\n",
       "      <td>False</td>\n",
       "      <td>608</td>\n",
       "      <td>False</td>\n",
       "      <td>0</td>\n",
       "      <td>True</td>\n",
       "      <td>True</td>\n",
       "      <td>True</td>\n",
       "      <td>Shell</td>\n",
       "      <td>2013-05-18T15:23:16-07:00</td>\n",
       "      <td>master</td>\n",
       "      <td>vbkick-boxarium</td>\n",
       "    </tr>\n",
       "    <tr>\n",
       "      <th>2410</th>\n",
       "      <td>Provides when.java wrappers for standard vert....</td>\n",
       "      <td>7</td>\n",
       "      <td>7</td>\n",
       "      <td>2</td>\n",
       "      <td>False</td>\n",
       "      <td>399</td>\n",
       "      <td>False</td>\n",
       "      <td>0</td>\n",
       "      <td>True</td>\n",
       "      <td>True</td>\n",
       "      <td>True</td>\n",
       "      <td>Java</td>\n",
       "      <td>2013-07-29T19:11:52-07:00</td>\n",
       "      <td>develop</td>\n",
       "      <td>vertx-mod-when</td>\n",
       "    </tr>\n",
       "    <tr>\n",
       "      <th>2408</th>\n",
       "      <td>Fatty Acids and Stable Isotopes in R</td>\n",
       "      <td>0</td>\n",
       "      <td>0</td>\n",
       "      <td>0</td>\n",
       "      <td>False</td>\n",
       "      <td>9924</td>\n",
       "      <td>False</td>\n",
       "      <td>1</td>\n",
       "      <td>True</td>\n",
       "      <td>True</td>\n",
       "      <td>True</td>\n",
       "      <td>TeX</td>\n",
       "      <td>2013-03-20T05:54:23-07:00</td>\n",
       "      <td>master</td>\n",
       "      <td>fastinR</td>\n",
       "    </tr>\n",
       "    <tr>\n",
       "      <th>2426</th>\n",
       "      <td>A repo to test github api</td>\n",
       "      <td>0</td>\n",
       "      <td>0</td>\n",
       "      <td>0</td>\n",
       "      <td>False</td>\n",
       "      <td>0</td>\n",
       "      <td>False</td>\n",
       "      <td>0</td>\n",
       "      <td>True</td>\n",
       "      <td>True</td>\n",
       "      <td>True</td>\n",
       "      <td>JavaScript</td>\n",
       "      <td>2014-04-01T14:36:16-07:00</td>\n",
       "      <td>master</td>\n",
       "      <td>ApiTestingRepo</td>\n",
       "    </tr>\n",
       "  </tbody>\n",
       "</table>\n",
       "</div>"
      ],
      "text/plain": [
       "                                 repository_description  repository_watchers  \\\n",
       "2414  ZF2 Based CMS that provides a highly-WYSIWYG i...                    0   \n",
       "2412  Vagrant base boxes for my projects as vbkick d...                    0   \n",
       "2410  Provides when.java wrappers for standard vert....                    7   \n",
       "2408               Fatty Acids and Stable Isotopes in R                    0   \n",
       "2426                          A repo to test github api                    0   \n",
       "\n",
       "      repository_stargazers  repository_forks  repository_fork  \\\n",
       "2414                      0                 0             True   \n",
       "2412                      0                 0            False   \n",
       "2410                      7                 2            False   \n",
       "2408                      0                 0            False   \n",
       "2426                      0                 0            False   \n",
       "\n",
       "      repository_size  repository_private  repository_open_issues  \\\n",
       "2414            23182               False                       0   \n",
       "2412              608               False                       0   \n",
       "2410              399               False                       0   \n",
       "2408             9924               False                       1   \n",
       "2426                0               False                       0   \n",
       "\n",
       "      repository_has_issues  repository_has_downloads  repository_has_wiki  \\\n",
       "2414                  False                      True                 True   \n",
       "2412                   True                      True                 True   \n",
       "2410                   True                      True                 True   \n",
       "2408                   True                      True                 True   \n",
       "2426                   True                      True                 True   \n",
       "\n",
       "     repository_language      repository_created_at repository_master_branch  \\\n",
       "2414                 PHP  2014-02-19T11:29:49-08:00                   master   \n",
       "2412               Shell  2013-05-18T15:23:16-07:00                   master   \n",
       "2410                Java  2013-07-29T19:11:52-07:00                  develop   \n",
       "2408                 TeX  2013-03-20T05:54:23-07:00                   master   \n",
       "2426          JavaScript  2014-04-01T14:36:16-07:00                   master   \n",
       "\n",
       "            repo_name  \n",
       "2414              Rcm  \n",
       "2412  vbkick-boxarium  \n",
       "2410   vertx-mod-when  \n",
       "2408          fastinR  \n",
       "2426   ApiTestingRepo  "
      ]
     },
     "execution_count": 177,
     "metadata": {},
     "output_type": "execute_result"
    }
   ],
   "source": [
    "df.head()"
   ]
  },
  {
   "cell_type": "code",
   "execution_count": 178,
   "metadata": {},
   "outputs": [
    {
     "data": {
      "text/plain": [
       "2414    ZF2 Based CMS that provides a highly-WYSIWYG i...\n",
       "2412    Vagrant base boxes for my projects as vbkick d...\n",
       "2410    Provides when.java wrappers for standard vert....\n",
       "2408                 Fatty Acids and Stable Isotopes in R\n",
       "2426                            A repo to test github api\n",
       "Name: repository_description, dtype: object"
      ]
     },
     "execution_count": 178,
     "metadata": {},
     "output_type": "execute_result"
    }
   ],
   "source": [
    "df.repository_description.head()"
   ]
  },
  {
   "cell_type": "code",
   "execution_count": 188,
   "metadata": {},
   "outputs": [
    {
     "data": {
      "text/plain": [
       "False    4097\n",
       "True      473\n",
       "Name: repository_fork, dtype: int64"
      ]
     },
     "execution_count": 188,
     "metadata": {},
     "output_type": "execute_result"
    }
   ],
   "source": [
    "df.repository_fork.value_counts()"
   ]
  },
  {
   "cell_type": "code",
   "execution_count": 191,
   "metadata": {},
   "outputs": [
    {
     "data": {
      "text/plain": [
       "True     4485\n",
       "False      85\n",
       "Name: repository_has_downloads, dtype: int64"
      ]
     },
     "execution_count": 191,
     "metadata": {},
     "output_type": "execute_result"
    }
   ],
   "source": [
    "df.repository_has_downloads.value_counts()"
   ]
  },
  {
   "cell_type": "code",
   "execution_count": 307,
   "metadata": {},
   "outputs": [],
   "source": [
    "list_repo=df.repository_language.value_counts()>100\n"
   ]
  },
  {
   "cell_type": "code",
   "execution_count": 308,
   "metadata": {},
   "outputs": [
    {
     "data": {
      "text/plain": [
       "11"
      ]
     },
     "execution_count": 308,
     "metadata": {},
     "output_type": "execute_result"
    }
   ],
   "source": [
    "list_repo.sum()"
   ]
  },
  {
   "cell_type": "code",
   "execution_count": 309,
   "metadata": {},
   "outputs": [],
   "source": [
    "df_repo_lang=pd.DataFrame(data=list_repo)\n"
   ]
  },
  {
   "cell_type": "code",
   "execution_count": 313,
   "metadata": {},
   "outputs": [],
   "source": [
    "Languages=df_repo_lang.head(11).index"
   ]
  },
  {
   "cell_type": "markdown",
   "metadata": {},
   "source": [
    "## we can see that there are 11 unique languages and other than these we can consider the category as other"
   ]
  },
  {
   "cell_type": "code",
   "execution_count": 320,
   "metadata": {},
   "outputs": [],
   "source": [
    "df.loc[~df['repository_language'].isin(Languages) , 'repository_language'] = 'other'"
   ]
  },
  {
   "cell_type": "code",
   "execution_count": 331,
   "metadata": {},
   "outputs": [
    {
     "data": {
      "text/plain": [
       "12"
      ]
     },
     "execution_count": 331,
     "metadata": {},
     "output_type": "execute_result"
    }
   ],
   "source": [
    "df.repository_language.value_counts().count()"
   ]
  },
  {
   "cell_type": "code",
   "execution_count": 1,
   "metadata": {},
   "outputs": [
    {
     "ename": "NameError",
     "evalue": "name 'nominal' is not defined",
     "output_type": "error",
     "traceback": [
      "\u001b[0;31m---------------------------------------------------------------------------\u001b[0m",
      "\u001b[0;31mNameError\u001b[0m                                 Traceback (most recent call last)",
      "\u001b[0;32m<ipython-input-1-6b6439e7ed71>\u001b[0m in \u001b[0;36m<module>\u001b[0;34m\u001b[0m\n\u001b[1;32m      1\u001b[0m \u001b[0;31m#correlation including all\u001b[0m\u001b[0;34m\u001b[0m\u001b[0;34m\u001b[0m\u001b[0;34m\u001b[0m\u001b[0m\n\u001b[0;32m----> 2\u001b[0;31m \u001b[0mnominal\u001b[0m\u001b[0;34m.\u001b[0m\u001b[0massociations\u001b[0m\u001b[0;34m(\u001b[0m\u001b[0mdf\u001b[0m\u001b[0;34m,\u001b[0m \u001b[0mnominal_columns\u001b[0m\u001b[0;34m=\u001b[0m\u001b[0;34m'auto'\u001b[0m\u001b[0;34m,\u001b[0m \u001b[0mmark_columns\u001b[0m\u001b[0;34m=\u001b[0m\u001b[0;32mFalse\u001b[0m\u001b[0;34m,\u001b[0m \u001b[0mtheil_u\u001b[0m\u001b[0;34m=\u001b[0m\u001b[0;32mFalse\u001b[0m\u001b[0;34m,\u001b[0m \u001b[0mplot\u001b[0m\u001b[0;34m=\u001b[0m\u001b[0;32mTrue\u001b[0m\u001b[0;34m,\u001b[0m \u001b[0mreturn_results\u001b[0m\u001b[0;34m=\u001b[0m\u001b[0;32mTrue\u001b[0m\u001b[0;34m,\u001b[0m \u001b[0mclustering\u001b[0m\u001b[0;34m=\u001b[0m\u001b[0;32mFalse\u001b[0m\u001b[0;34m,\u001b[0m \u001b[0mnan_strategy\u001b[0m\u001b[0;34m=\u001b[0m\u001b[0mREPLACE\u001b[0m\u001b[0;34m,\u001b[0m \u001b[0mnan_replace_value\u001b[0m\u001b[0;34m=\u001b[0m\u001b[0mDEFAULT_REPLACE_VALUE\u001b[0m\u001b[0;34m,\u001b[0m\u001b[0mfigsize\u001b[0m\u001b[0;34m=\u001b[0m\u001b[0;34m(\u001b[0m\u001b[0;36m15\u001b[0m\u001b[0;34m,\u001b[0m\u001b[0;36m10\u001b[0m\u001b[0;34m)\u001b[0m\u001b[0;34m)\u001b[0m\u001b[0;34m\u001b[0m\u001b[0;34m\u001b[0m\u001b[0m\n\u001b[0m\u001b[1;32m      3\u001b[0m \u001b[0;34m\u001b[0m\u001b[0m\n",
      "\u001b[0;31mNameError\u001b[0m: name 'nominal' is not defined"
     ]
    }
   ],
   "source": [
    "#correlation including all\n",
    "nominal.associations(df, nominal_columns='auto', mark_columns=False, theil_u=False, plot=True, return_results=True, clustering=False, nan_strategy=REPLACE, nan_replace_value=DEFAULT_REPLACE_VALUE,figsize=(15,10))\n",
    "            "
   ]
  },
  {
   "cell_type": "code",
   "execution_count": 329,
   "metadata": {},
   "outputs": [],
   "source": [
    "#converting into csv and excel\n",
    "df.to_excel('/Users/vinatigattupalli/Github_Classification/Datasets/Processed_Data/Repo_cleaned.xlsx',engine='xlsxwriter')\n",
    "df.to_csv(r'/Users/vinatigattupalli/Github_Classification/Datasets/Processed_Data/Repo_cleaned.csv')"
   ]
  }
 ],
 "metadata": {
  "kernelspec": {
   "display_name": "Python 3",
   "language": "python",
   "name": "python3"
  },
  "language_info": {
   "codemirror_mode": {
    "name": "ipython",
    "version": 3
   },
   "file_extension": ".py",
   "mimetype": "text/x-python",
   "name": "python",
   "nbconvert_exporter": "python",
   "pygments_lexer": "ipython3",
   "version": "3.7.3"
  }
 },
 "nbformat": 4,
 "nbformat_minor": 2
}
