{
 "cells": [
  {
   "cell_type": "code",
   "execution_count": 11,
   "metadata": {},
   "outputs": [
    {
     "name": "stdout",
     "output_type": "stream",
     "text": [
      "> <ipython-input-11-9cb7e9e32a27>(33)<module>()\n",
      "-> with session() as c:\n",
      "(Pdb) url\n",
      "'https://data.gharchive.org/2014-04-01-0.json.gz'\n",
      "(Pdb) c\n"
     ]
    }
   ],
   "source": [
    "# Importing packages\n",
    "#import MySQLdb\n",
    "from requests import session\n",
    "from io import BytesIO\n",
    "import gzip\n",
    "import pandas as pd\n",
    "import numpy as np\n",
    "import json\n",
    "import requests\n",
    "from collections import defaultdict\n",
    "\n",
    "import os\n",
    "from pandas.io.json import json_normalize\n",
    "\n",
    "# # Open database connection\\n\",\n",
    "# db = MySQLdb.connect(\"localhost \", \"rt0335\",\"rt0335@123\",\"datafork\" )\n",
    "# query='SELECT * FROM gitdatam WHERE repo_name = %s',\n",
    "# #df = pd.read_sql(query, con=db, params=[focal_repository]),\n",
    "\n",
    "# declaring the url and output file\n",
    "url_start=\"https://data.gharchive.org/\"\n",
    "url_year_month=\"2014-04-\"\n",
    "day =range(1,2)\n",
    "hour=range(0,1)\n",
    "url_ext=\".json.gz\"\n",
    "output_file = \"/Users/vinatigattupalli/PycharmProjects/Forks/Cat.json\"\n",
    "\n",
    "for i in day:\n",
    "    for j in hour:\n",
    "        url=url_start+url_year_month+str(i).zfill(2)+\"-\"+str(j)+url_ext\n",
    "        import pdb;pdb.set_trace();\n",
    "        # Getting the response of the API\n",
    "        with session() as c:\n",
    "            response = c.get(url)\n",
    "            # Loading the content of the response into a file object\n",
    "            compressed_file = BytesIO(response.content)\n",
    "            # decompressing the gzip file using gzip\n",
    "            decompressed_file = gzip.GzipFile(fileobj=compressed_file)\n",
    "        # Writing  the file object into the output file\n",
    "        with open(output_file, 'wb') as handle:\n",
    "            handle.write(decompressed_file.read())\n",
    "        mylist = []\n",
    "        dict_list = []\n",
    "        with open(output_file, 'r') as handle:\n",
    "            content = handle.read()\n",
    "            mylist = content.split(\"\\n\")\n",
    "            mylist = list(filter(None, mylist))\n",
    "        for line in mylist:\n",
    "            object=json.loads(str(line))\n",
    "            if 'payload'in object:\n",
    "                object.pop('payload')\n",
    "                dict_list.append(object)\n",
    "        df_main = pd.DataFrame()\n",
    "        df_main=pd.io.json.json_normalize(dict_list,sep='_')\n",
    "        df_main.to_excel('/Users/vinatigattupalli/Github_Classification/df.xlsx')\n",
    "\n",
    "#df.to_csv(r'/Users/vinatigattupalli/Documents/Datasets/Dataset1.csv')\n",
    "\n",
    "\n"
   ]
  },
  {
   "cell_type": "code",
   "execution_count": null,
   "metadata": {},
   "outputs": [],
   "source": [
    "pwd"
   ]
  },
  {
   "cell_type": "code",
   "execution_count": null,
   "metadata": {},
   "outputs": [],
   "source": [
    "list2=df_main_2.columns"
   ]
  },
  {
   "cell_type": "code",
   "execution_count": null,
   "metadata": {},
   "outputs": [],
   "source": [
    "if list1.any() == list2.any(): \n",
    "    print (\"The lists are identical\") "
   ]
  },
  {
   "cell_type": "code",
   "execution_count": null,
   "metadata": {},
   "outputs": [],
   "source": [
    "list2"
   ]
  },
  {
   "cell_type": "code",
   "execution_count": null,
   "metadata": {},
   "outputs": [],
   "source": []
  }
 ],
 "metadata": {
  "kernelspec": {
   "display_name": "Python 3",
   "language": "python",
   "name": "python3"
  },
  "language_info": {
   "codemirror_mode": {
    "name": "ipython",
    "version": 3
   },
   "file_extension": ".py",
   "mimetype": "text/x-python",
   "name": "python",
   "nbconvert_exporter": "python",
   "pygments_lexer": "ipython3",
   "version": "3.6.7"
  }
 },
 "nbformat": 4,
 "nbformat_minor": 2
}
